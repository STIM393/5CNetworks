{
  "metadata": {
    "language_info": {
      "codemirror_mode": {
        "name": "python",
        "version": 3
      },
      "file_extension": ".py",
      "mimetype": "text/x-python",
      "name": "python",
      "nbconvert_exporter": "python",
      "pygments_lexer": "ipython3",
      "version": "3.8"
    },
    "kernelspec": {
      "name": "python",
      "display_name": "Python (Pyodide)",
      "language": "python"
    }
  },
  "nbformat_minor": 4,
  "nbformat": 4,
  "cells": [
    {
      "cell_type": "code",
      "source": "import pandas as pd\nimport csv\n#Read CSV file from directory CSV\ndf=pd.read_csv(\"./CSV/sales_data_1.csv\")\n\n#1.What is their overall gross margin for their business?\n#To find out gross margin we have to remove cost of goods from netsales and remaining amount we have to find the percentage\n#Gross margin is always showed as percenatge\ndata = []\nwith open('./CSV/sales_data_1.csv', 'r') as file:\n    reader = csv.DictReader(file)\n    for row in reader:\n        data.append(row)\ntotal_revenue = 0\ntotal_cost = 0\nfor transaction in data:\n    selling_price = float(transaction['Selling price'])\n    buying_price = float(transaction['Buying price'])\n    quantity_sold = int(transaction['Quantity sold'])\n\n    total_revenue += selling_price * quantity_sold\n    total_cost += buying_price * quantity_sold\ngross_margin = ((total_revenue - total_cost) / total_revenue) * 100\nprint(f\"1.Overall gross margin: {gross_margin:.2f}%\")\n\nvendor_profits = df.groupby('Firm bought from')['Selling price'].sum() - df.groupby('Firm bought from')['Buying price'].sum()\nmost_profitable_vendor = vendor_profits.idxmax()\nprint(f\"2.The most profitable vendor is: {most_profitable_vendor}\")\n\ncustomer_profits = df.groupby('Customer')['Selling price'].sum() - df.groupby('Customer')['Buying price'].sum()\nleast_profitable_customer = customer_profits.idxmin()\nprint(f\"3.The least profitable customer is: {least_profitable_customer}\")\n\n\ndf['Date'] = pd.to_datetime(df['Date'], format='%d/%m/%y')\ndf['Day of Week'] = df['Date'].dt.day_name()\n\nday_profits = df.groupby('Day of Week')['Selling price'].sum() - df.groupby('Day of Week')['Buying price'].sum()\nmost_profitable_day = day_profits.idxmax()\nprint(f\"4.The most profitable day of the week is: {most_profitable_day}\")\n\nleast_profitable_day = day_profits.idxmin()\nprint(f\"5.The least profitable day of the week is: {least_profitable_day}\")\n\n\n\n\n\n\n\n\n",
      "metadata": {
        "trusted": true
      },
      "execution_count": 2,
      "outputs": [
        {
          "name": "stdout",
          "text": "1.Overall gross margin: 24.63%\n2.The most profitable vendor is: Vendor7\n3.The least profitable customer is: Customer9\n4.The most profitable day of the week is: Monday\n5.The least profitable day of the week is: Thursday\n",
          "output_type": "stream"
        }
      ]
    },
    {
      "cell_type": "code",
      "source": "",
      "metadata": {},
      "execution_count": null,
      "outputs": []
    },
    {
      "cell_type": "code",
      "source": "",
      "metadata": {},
      "execution_count": null,
      "outputs": []
    }
  ]
}